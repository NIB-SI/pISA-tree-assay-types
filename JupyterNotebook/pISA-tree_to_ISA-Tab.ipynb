{
 "cells": [
  {
   "cell_type": "markdown",
   "id": "59f4a5fb",
   "metadata": {},
   "source": [
    "**pISA-tree to ISA-Tab**\n",
    "\n",
    "_MZ_\n",
    "\n",
    "_August, 2022_"
   ]
  },
  {
   "cell_type": "markdown",
   "id": "48225ca6",
   "metadata": {},
   "source": [
    "* [pISA-tree](https://github.com/NIB-SI/pISA-tree)\n",
    "* [R support for pISA-tree](https://github.com/NIB-SI/pisar)\n",
    "* [How To Use pISA-tree in R](https://github.com/NIB-SI/pisar/blob/master/doc/HowTo-Use-pISA-tree-in-R.pdf)\n",
    "* [Collection of pISA-tree assay types](https://github.com/NIB-SI/pISA-tree-assay-types)\n",
    "* [pISA .xml templates](https://github.com/NIB-SI/pISA-tree-assay-types/blob/main/pISA--ISA-Tab_%20validation-templates/README.md) concordant with [ISA-tools/Configuration-Files](https://github.com/ISA-tools/Configuration-Files/tree/master/isaconfig-default_v2015-07-02)"
   ]
  },
  {
   "cell_type": "markdown",
   "id": "31a11fb9",
   "metadata": {},
   "source": [
    "```pisar::createISAtab```\n",
    "\n",
    "args:\n",
    "* iroot - path to investigation. If missing, a interactively navigate to the desired investigation and select investigation metadata file.\n",
    "* files - a vector of assay metadata file names (with study and assay path) to export. If missing, all assays in selected investigation will be processed.\n",
    "* path - path to the exported files, default is /ISA-tab/ folder in the investigation path.\n",
    "* zip - controls creation of zip file, created if TRUE.\n",
    "* isamap - path and name of the file with mapping of pISA-tree and ISA-tab keys. If missing, the mapping file that comes with the package pisar is used.\n"
   ]
  },
  {
   "cell_type": "markdown",
   "id": "66778c9c",
   "metadata": {},
   "source": [
    "To quick test, one can use pisar provided files\n",
    "\n",
    "```fp = file.path(find.package('pisar'), 'extdata', '_p_Test-pISA-tab', '_I_i')```\n"
   ]
  },
  {
   "cell_type": "code",
   "execution_count": null,
   "id": "ba225aa0",
   "metadata": {},
   "outputs": [],
   "source": [
    "fp = file.path(find.package('pisar'), 'extdata', '_p_Test-pISA-tab', '_I_i')"
   ]
  },
  {
   "cell_type": "code",
   "execution_count": null,
   "id": "3700d70c",
   "metadata": {},
   "outputs": [],
   "source": [
    "list.files(fp, \n",
    "           full.names = FALSE, \n",
    "           recursive = TRUE,\n",
    "           ignore.case = FALSE, \n",
    "           include.dirs = TRUE)"
   ]
  },
  {
   "cell_type": "code",
   "execution_count": null,
   "id": "65b29c29",
   "metadata": {},
   "outputs": [],
   "source": [
    "fpo = file.path('.', 'pISA-ISA', 'out')\n",
    "if(!file.exists(fpo)) dir.create(fpo)"
   ]
  },
  {
   "cell_type": "code",
   "execution_count": null,
   "id": "1ffde743",
   "metadata": {},
   "outputs": [],
   "source": [
    "pisar::createISAtab(iroot = fp, path = fpo, zip = FALSE)"
   ]
  },
  {
   "cell_type": "code",
   "execution_count": null,
   "id": "7d9543fa",
   "metadata": {},
   "outputs": [],
   "source": [
    "devtools::session_info()"
   ]
  }
 ],
 "metadata": {
  "kernelspec": {
   "display_name": "R [conda env:rhumba] *",
   "language": "R",
   "name": "conda-env-rhumba-r"
  },
  "language_info": {
   "codemirror_mode": "r",
   "file_extension": ".r",
   "mimetype": "text/x-r-source",
   "name": "R",
   "pygments_lexer": "r",
   "version": "4.1.3"
  }
 },
 "nbformat": 4,
 "nbformat_minor": 5
}
